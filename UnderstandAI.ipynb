{
 "cells": [
  {
   "cell_type": "code",
   "execution_count": 14,
   "id": "f661af45",
   "metadata": {},
   "outputs": [
    {
     "name": "stderr",
     "output_type": "stream",
     "text": [
      "The attention mask and the pad token id were not set. As a consequence, you may observe unexpected behavior. Please pass your input's `attention_mask` to obtain reliable results.\n",
      "Setting `pad_token_id` to `eos_token_id`:50256 for open-end generation.\n"
     ]
    },
    {
     "name": "stdout",
     "output_type": "stream",
     "text": [
      "Insights:\n",
      "The financial transactions dataset contains 6 rows.  The first row is the amount of money in the account.  The second row is the amount of money in the account.  The third row is the amount of money in the account.  The fourth row is the amount of money in the account.  The fifth row is the amount of money in the account.  The sixth row is the amount of money in the account.  The seventh row is the amount\n",
      "Suggestions:\n",
      "\n"
     ]
    }
   ],
   "source": [
    "import pandas as pd\n",
    "from transformers import GPT2LMHeadModel, GPT2Tokenizer\n",
    "\n",
    "# Load the GPT-2 model and tokenizer\n",
    "model = GPT2LMHeadModel.from_pretrained('gpt2')\n",
    "tokenizer = GPT2Tokenizer.from_pretrained('gpt2')\n",
    "\n",
    "# Create a financial transactions dataset with additional columns\n",
    "df = pd.DataFrame({\n",
    "    'Customer Name': ['John', 'Jane', 'Bob', 'Alice', 'Tom', 'Amy'],\n",
    "    'Transaction Amount': [2000, 5000, 3000, 4000, 1500, 1000],\n",
    "    'Loan Amount': [1000, 2000, 1500, 2500, 1000, 500],\n",
    "    'Loan Return Time': [30, 45, 60, 90, 120, 180],\n",
    "    'Reason for Delay': [\n",
    "        'I lost my job and couldn\\'t afford to pay back the loan on time.',\n",
    "        'I had to pay for my child\\'s medical expenses, which delayed my loan repayment.',\n",
    "        'I invested the loan amount in a business that failed, which affected my cash flow.',\n",
    "        'I was out of the country and couldn\\'t make the payment on time.',\n",
    "        'I had to pay for unexpected car repairs, which affected my finances.',\n",
    "        'I had a family emergency that required me to use the loan amount for something else.'\n",
    "    ]\n",
    "})\n",
    "\n",
    "# Define a function to generate insights and suggestions using GPT-2\n",
    "def generate_insights(df):\n",
    "    # Define the input text for the model\n",
    "    input_text = f\"The financial transactions dataset contains {len(df)} rows. \"\n",
    "\n",
    "    # Tokenize the input text\n",
    "    input_ids = tokenizer.encode(input_text, return_tensors='pt')\n",
    "\n",
    "    # Generate text using the model\n",
    "    output = model.generate(input_ids, max_length=100, num_beams=5, early_stopping=True)\n",
    "\n",
    "    # Decode the output text\n",
    "    generated_text = tokenizer.decode(output[0], skip_special_tokens=True)\n",
    "\n",
    "    # Extract the insights and suggestions from the generated text\n",
    "    text_sections = generated_text.split('\\n\\n')\n",
    "    insights = text_sections[0]\n",
    "    suggestions = text_sections[1] if len(text_sections) > 1 else \"\"\n",
    "\n",
    "    # Return the insights and suggestions\n",
    "    return insights, suggestions\n",
    "\n",
    "# Generate insights and suggestions from the dataset\n",
    "insights, suggestions = generate_insights(df)\n",
    "\n",
    "# Print the results\n",
    "print(\"Insights:\")\n",
    "print(insights)\n",
    "print(\"Suggestions:\")\n",
    "print(suggestions)\n"
   ]
  },
  {
   "cell_type": "code",
   "execution_count": 26,
   "id": "431b6296",
   "metadata": {},
   "outputs": [],
   "source": [
    "import random\n",
    "import csv\n",
    "from datetime import datetime, timedelta\n",
    "\n",
    "# Define the list of possible transaction types\n",
    "transaction_types = [\"Loan\", \"Credit Card Payment\", \"Investment\", \"Withdrawal\", \"Deposit\"]\n",
    "\n",
    "# Define the list of possible reasons for delay\n",
    "reasons_for_delay = [\"Family emergency\", \"Vacation\", \"Health issues\", \"Overspending\", \"Job loss\", \"Education expenses\", \"Home renovation\", \"Divorce\", \"Unexpected car repairs\", \"Medical bills\"]\n",
    "\n",
    "# Define the start and end dates for the dataset\n",
    "start_date = datetime(2022, 1, 1)\n",
    "end_date = datetime(2022, 12, 31)\n",
    "\n",
    "# Define the number of rows to generate\n",
    "num_rows = 1000\n",
    "\n",
    "# Generate the dataset\n",
    "with open(\"financial_transactions.csv\", \"w\", newline=\"\") as f:\n",
    "    writer = csv.writer(f)\n",
    "    writer.writerow([\"id\", \"customer_name\", \"transaction_date\", \"transaction_type\", \"transaction_amount\", \"days_to_return\", \"reason_for_delay\"])\n",
    "    for i in range(num_rows):\n",
    "        # Generate random values for each row\n",
    "        id = i+1\n",
    "        customer_name = \"Customer \" + str(random.randint(1, 100))\n",
    "        transaction_date = start_date + timedelta(days=random.randint(0, (end_date - start_date).days))\n",
    "        transaction_type = random.choice(transaction_types)\n",
    "        transaction_amount = random.randint(100, 100000)\n",
    "        days_to_return = random.randint(0, 90)\n",
    "        reason_for_delay = random.choice(reasons_for_delay)\n",
    "        # Write the row to the file\n",
    "        writer.writerow([id, customer_name, transaction_date.strftime(\"%Y-%m-%d\"), transaction_type, transaction_amount, days_to_return, reason_for_delay])\n"
   ]
  },
  {
   "cell_type": "code",
   "execution_count": null,
   "id": "ed42f28c",
   "metadata": {},
   "outputs": [],
   "source": []
  },
  {
   "cell_type": "code",
   "execution_count": 27,
   "id": "8152e46c",
   "metadata": {},
   "outputs": [
    {
     "name": "stderr",
     "output_type": "stream",
     "text": [
      "The attention mask and the pad token id were not set. As a consequence, you may observe unexpected behavior. Please pass your input's `attention_mask` to obtain reliable results.\n",
      "Setting `pad_token_id` to `eos_token_id`:50256 for open-end generation.\n"
     ]
    },
    {
     "name": "stdout",
     "output_type": "stream",
     "text": [
      "The financial transactions dataset contains 1000 records. The total amount of money involved in the transactions is 50,137,920.00 dollars. The most common reason for delayed payments is Medical bills. The average number of days to return a payment is 46.20 days. What other insights can we gather from this dataset?\n",
      "\n",
      "What is a Medical bill?\n",
      "\n",
      "According to the FDA, an average bill can cost between $50-50,000. According to the FDA, in an average year, between $100,000 and $250,000 a year is spent on medical bills. An average person has two bills. One is for surgery and the other is for hospitalization.\n",
      "\n",
      "An average patient has several medical bills. How many people are doing this?\n",
      "\n",
      "Here is a list of each patient's average medical bill from different years and regions.\n",
      "\n",
      "The total amount spent in the year 2012 on medical bills in US is $4,977,300.\n",
      "\n",
      "Total amount spent in US was $4,977,300.\n",
      "\n",
      "Median number of days to return a payment for medical bills is 11.\n",
      "\n",
      "Median number of days to return a payment for medical bills is 26.\n",
      "\n",
      "Average amount of money spent in a year for medical bills is $300,000.\n",
      "\n",
      "$100K\n",
      "\n",
      "Average total amount spent on a medical bill in US in a year is $300,000.\n",
      "\n",
      "$100K average person in US spends $300,000 on medical bills in a year\n",
      "\n",
      "$2,000K\n",
      "\n",
      "Average dollar amount spent per day on medical bills in US was $2,000,000.\n",
      "\n",
      "$2,000K people in US spent $2,000,000 on medical bills in a year\n",
      "\n",
      "$5.0K\n",
      "\n",
      "Number of people in US from age 0 years to age 21 years with a medical bill of more than $10,000.\n",
      "\n",
      "$7.0K people in US were under age 21 years in 2013.\n",
      "\n",
      "$10K\n",
      "\n",
      "Amount that the average person spends to pay medical bills each year for the year 2013.\n",
      "\n",
      "Average person spends approximately $3.0K to pay medical bills each year in a year.\n",
      "\n",
      "The average number of years that the average person spent getting a medical bill is 2.5 years. How is this important? It is because many of these bills are for basic medical bills like prescription drugs, medication, and for medical operations and surgery\n"
     ]
    }
   ],
   "source": [
    "\n",
    "\n",
    "import pandas as pd\n",
    "import numpy as np\n",
    "import torch\n",
    "from transformers import GPT2LMHeadModel, GPT2Tokenizer, TrainingArguments, Trainer\n",
    "\n",
    "# Load the dataset into a Pandas dataframe\n",
    "df = pd.read_csv(\"financial_transactions.csv\")\n",
    "\n",
    "# Define the GPT-2 model and tokenizer\n",
    "model_name = \"gpt2-medium\"\n",
    "model = GPT2LMHeadModel.from_pretrained(model_name)\n",
    "tokenizer = GPT2Tokenizer.from_pretrained(model_name)\n",
    "\n",
    "# Define the maximum length of the generated text\n",
    "max_length = 512\n",
    "\n",
    "# Define the prompt for the GPT-2 model\n",
    "prompt = f\"The financial transactions dataset contains {len(df)} records. The total amount of money involved in the transactions is {df['transaction_amount'].sum():,.2f} dollars. The most common reason for delayed payments is {df['reason_for_delay'].value_counts().index[0]}. The average number of days to return a payment is {df['days_to_return'].mean():.2f} days. What other insights can we gather from this dataset?\"\n",
    "\n",
    "# Encode the prompt and generate the output\n",
    "input_ids = tokenizer.encode(prompt, return_tensors=\"pt\")\n",
    "output = model.generate(input_ids=input_ids, max_length=max_length, do_sample=True, top_k=50, top_p=0.95)\n",
    "\n",
    "# Decode the output and print it\n",
    "output_text = tokenizer.decode(output[0], skip_special_tokens=True)\n",
    "print(output_text)\n"
   ]
  },
  {
   "cell_type": "code",
   "execution_count": null,
   "id": "ba8c59b8",
   "metadata": {},
   "outputs": [],
   "source": []
  },
  {
   "cell_type": "code",
   "execution_count": null,
   "id": "4ad41cbf",
   "metadata": {},
   "outputs": [],
   "source": []
  },
  {
   "cell_type": "code",
   "execution_count": null,
   "id": "76df8532",
   "metadata": {},
   "outputs": [],
   "source": []
  },
  {
   "cell_type": "code",
   "execution_count": null,
   "id": "05267ddc",
   "metadata": {},
   "outputs": [],
   "source": []
  },
  {
   "cell_type": "code",
   "execution_count": null,
   "id": "bf26df65",
   "metadata": {},
   "outputs": [],
   "source": []
  },
  {
   "cell_type": "code",
   "execution_count": null,
   "id": "fdfc60e2",
   "metadata": {},
   "outputs": [],
   "source": []
  },
  {
   "cell_type": "code",
   "execution_count": null,
   "id": "53926a0e",
   "metadata": {},
   "outputs": [],
   "source": []
  },
  {
   "cell_type": "code",
   "execution_count": null,
   "id": "40e45599",
   "metadata": {},
   "outputs": [],
   "source": []
  },
  {
   "cell_type": "code",
   "execution_count": 16,
   "id": "201b21e8",
   "metadata": {},
   "outputs": [],
   "source": []
  },
  {
   "cell_type": "code",
   "execution_count": null,
   "id": "f06b79cb",
   "metadata": {},
   "outputs": [],
   "source": []
  },
  {
   "cell_type": "code",
   "execution_count": null,
   "id": "16d9dfd1",
   "metadata": {},
   "outputs": [],
   "source": []
  },
  {
   "cell_type": "code",
   "execution_count": null,
   "id": "f3400f03",
   "metadata": {},
   "outputs": [],
   "source": []
  },
  {
   "cell_type": "code",
   "execution_count": null,
   "id": "3da22e93",
   "metadata": {},
   "outputs": [],
   "source": []
  }
 ],
 "metadata": {
  "kernelspec": {
   "display_name": "Python 3 (ipykernel)",
   "language": "python",
   "name": "python3"
  },
  "language_info": {
   "codemirror_mode": {
    "name": "ipython",
    "version": 3
   },
   "file_extension": ".py",
   "mimetype": "text/x-python",
   "name": "python",
   "nbconvert_exporter": "python",
   "pygments_lexer": "ipython3",
   "version": "3.9.12"
  }
 },
 "nbformat": 4,
 "nbformat_minor": 5
}
